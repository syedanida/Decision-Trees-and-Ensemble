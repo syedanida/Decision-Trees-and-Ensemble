{
  "nbformat": 4,
  "nbformat_minor": 0,
  "metadata": {
    "colab": {
      "provenance": [],
      "authorship_tag": "ABX9TyMEymohpdXFCq835yLF2Mft",
      "include_colab_link": true
    },
    "kernelspec": {
      "name": "python3",
      "display_name": "Python 3"
    },
    "language_info": {
      "name": "python"
    }
  },
  "cells": [
    {
      "cell_type": "markdown",
      "metadata": {
        "id": "view-in-github",
        "colab_type": "text"
      },
      "source": [
        "<a href=\"https://colab.research.google.com/github/syedanida/Decision-Trees-and-Ensemble/blob/main/randomForest_fromScratch.ipynb\" target=\"_parent\"><img src=\"https://colab.research.google.com/assets/colab-badge.svg\" alt=\"Open In Colab\"/></a>"
      ]
    },
    {
      "cell_type": "code",
      "source": [
        "# Install required libraries\n",
        "!pip install matplotlib scikit-learn pandas"
      ],
      "metadata": {
        "colab": {
          "base_uri": "https://localhost:8080/"
        },
        "id": "aQN47dnLwkK-",
        "outputId": "f1a0e0c2-12d3-4265-9464-8252031ceecf"
      },
      "execution_count": 1,
      "outputs": [
        {
          "output_type": "stream",
          "name": "stdout",
          "text": [
            "Requirement already satisfied: matplotlib in /usr/local/lib/python3.10/dist-packages (3.8.0)\n",
            "Requirement already satisfied: scikit-learn in /usr/local/lib/python3.10/dist-packages (1.5.2)\n",
            "Requirement already satisfied: pandas in /usr/local/lib/python3.10/dist-packages (2.2.2)\n",
            "Requirement already satisfied: contourpy>=1.0.1 in /usr/local/lib/python3.10/dist-packages (from matplotlib) (1.3.1)\n",
            "Requirement already satisfied: cycler>=0.10 in /usr/local/lib/python3.10/dist-packages (from matplotlib) (0.12.1)\n",
            "Requirement already satisfied: fonttools>=4.22.0 in /usr/local/lib/python3.10/dist-packages (from matplotlib) (4.55.0)\n",
            "Requirement already satisfied: kiwisolver>=1.0.1 in /usr/local/lib/python3.10/dist-packages (from matplotlib) (1.4.7)\n",
            "Requirement already satisfied: numpy<2,>=1.21 in /usr/local/lib/python3.10/dist-packages (from matplotlib) (1.26.4)\n",
            "Requirement already satisfied: packaging>=20.0 in /usr/local/lib/python3.10/dist-packages (from matplotlib) (24.2)\n",
            "Requirement already satisfied: pillow>=6.2.0 in /usr/local/lib/python3.10/dist-packages (from matplotlib) (11.0.0)\n",
            "Requirement already satisfied: pyparsing>=2.3.1 in /usr/local/lib/python3.10/dist-packages (from matplotlib) (3.2.0)\n",
            "Requirement already satisfied: python-dateutil>=2.7 in /usr/local/lib/python3.10/dist-packages (from matplotlib) (2.8.2)\n",
            "Requirement already satisfied: scipy>=1.6.0 in /usr/local/lib/python3.10/dist-packages (from scikit-learn) (1.13.1)\n",
            "Requirement already satisfied: joblib>=1.2.0 in /usr/local/lib/python3.10/dist-packages (from scikit-learn) (1.4.2)\n",
            "Requirement already satisfied: threadpoolctl>=3.1.0 in /usr/local/lib/python3.10/dist-packages (from scikit-learn) (3.5.0)\n",
            "Requirement already satisfied: pytz>=2020.1 in /usr/local/lib/python3.10/dist-packages (from pandas) (2024.2)\n",
            "Requirement already satisfied: tzdata>=2022.7 in /usr/local/lib/python3.10/dist-packages (from pandas) (2024.2)\n",
            "Requirement already satisfied: six>=1.5 in /usr/local/lib/python3.10/dist-packages (from python-dateutil>=2.7->matplotlib) (1.16.0)\n"
          ]
        }
      ]
    },
    {
      "cell_type": "code",
      "source": [
        "# Import necessary libraries\n",
        "import numpy as np\n",
        "import pandas as pd\n",
        "from sklearn.datasets import load_iris\n",
        "from sklearn.model_selection import train_test_split\n",
        "from sklearn.metrics import accuracy_score\n",
        "from collections import Counter"
      ],
      "metadata": {
        "id": "oATCG4QJw5yi"
      },
      "execution_count": 2,
      "outputs": []
    },
    {
      "cell_type": "code",
      "source": [
        "# Decision Tree Implementation (as base learners for Random Forest)\n",
        "class DecisionTree:\n",
        "    def __init__(self, max_depth=None):\n",
        "        self.max_depth = max_depth\n",
        "        self.tree = None\n",
        "\n",
        "    def fit(self, X, y, depth=0):\n",
        "        n_samples, n_features = X.shape\n",
        "        if len(set(y)) == 1 or depth == self.max_depth:\n",
        "            self.tree = Counter(y).most_common(1)[0][0]\n",
        "            return\n",
        "\n",
        "        best_feature, best_threshold = self._best_split(X, y)\n",
        "        if best_feature is None:\n",
        "            self.tree = Counter(y).most_common(1)[0][0]\n",
        "            return\n",
        "\n",
        "        left_indices = X[:, best_feature] <= best_threshold\n",
        "        right_indices = X[:, best_feature] > best_threshold\n",
        "\n",
        "        self.tree = {\n",
        "            'feature': best_feature,\n",
        "            'threshold': best_threshold,\n",
        "            'left': DecisionTree(max_depth=self.max_depth),\n",
        "            'right': DecisionTree(max_depth=self.max_depth)\n",
        "        }\n",
        "\n",
        "        self.tree['left'].fit(X[left_indices], y[left_indices], depth + 1)\n",
        "        self.tree['right'].fit(X[right_indices], y[right_indices], depth + 1)\n",
        "\n",
        "    def predict(self, X):\n",
        "        if isinstance(self.tree, dict):\n",
        "            feature = self.tree['feature']\n",
        "            threshold = self.tree['threshold']\n",
        "            if X[feature] <= threshold:\n",
        "                return self.tree['left'].predict(X)\n",
        "            else:\n",
        "                return self.tree['right'].predict(X)\n",
        "        else:\n",
        "            return self.tree\n",
        "\n",
        "    def _best_split(self, X, y):\n",
        "        n_samples, n_features = X.shape\n",
        "        best_gain = -1\n",
        "        best_feature = None\n",
        "        best_threshold = None\n",
        "\n",
        "        for feature in range(n_features):\n",
        "            thresholds = np.unique(X[:, feature])\n",
        "            for threshold in thresholds:\n",
        "                left_indices = X[:, feature] <= threshold\n",
        "                right_indices = X[:, feature] > threshold\n",
        "                if sum(left_indices) == 0 or sum(right_indices) == 0:\n",
        "                    continue\n",
        "\n",
        "                gain = self._information_gain(y, left_indices, right_indices)\n",
        "                if gain > best_gain:\n",
        "                    best_gain = gain\n",
        "                    best_feature = feature\n",
        "                    best_threshold = threshold\n",
        "\n",
        "        return best_feature, best_threshold\n",
        "\n",
        "    def _information_gain(self, y, left_indices, right_indices):\n",
        "        def gini_impurity(y_subset):\n",
        "            if len(y_subset) == 0:\n",
        "                return 0\n",
        "            counts = Counter(y_subset)\n",
        "            probabilities = [count / len(y_subset) for count in counts.values()]\n",
        "            return 1 - sum(p ** 2 for p in probabilities)\n",
        "\n",
        "        left_impurity = gini_impurity(y[left_indices])\n",
        "        right_impurity = gini_impurity(y[right_indices])\n",
        "        n = len(y)\n",
        "        n_left = sum(left_indices)\n",
        "        n_right = sum(right_indices)\n",
        "\n",
        "        return gini_impurity(y) - (n_left / n) * left_impurity - (n_right / n) * right_impurity"
      ],
      "metadata": {
        "id": "XBZOtXHPxAMT"
      },
      "execution_count": 3,
      "outputs": []
    },
    {
      "cell_type": "code",
      "source": [
        "# Random Forest Implementation\n",
        "class RandomForest:\n",
        "    def __init__(self, n_estimators=10, max_depth=None, max_features=None):\n",
        "        self.n_estimators = n_estimators\n",
        "        self.max_depth = max_depth\n",
        "        self.max_features = max_features\n",
        "        self.trees = []\n",
        "\n",
        "    def fit(self, X, y):\n",
        "        self.trees = []\n",
        "        n_samples, n_features = X.shape\n",
        "        self.max_features = self.max_features or int(np.sqrt(n_features))\n",
        "\n",
        "        for _ in range(self.n_estimators):\n",
        "            bootstrap_indices = np.random.choice(n_samples, n_samples, replace=True)\n",
        "            X_bootstrap = X[bootstrap_indices]\n",
        "            y_bootstrap = y[bootstrap_indices]\n",
        "\n",
        "            tree = DecisionTree(max_depth=self.max_depth)\n",
        "            tree.fit(X_bootstrap[:, np.random.choice(n_features, self.max_features, replace=False)], y_bootstrap)\n",
        "            self.trees.append(tree)\n",
        "\n",
        "    def predict(self, X):\n",
        "        tree_preds = np.array([tree.predict(x) for tree in self.trees for x in X])\n",
        "        tree_preds = tree_preds.reshape(self.n_estimators, len(X)).T\n",
        "        return np.array([Counter(tree_pred).most_common(1)[0][0] for tree_pred in tree_preds])\n"
      ],
      "metadata": {
        "id": "j3A5499DxJYx"
      },
      "execution_count": 4,
      "outputs": []
    },
    {
      "cell_type": "code",
      "source": [
        "# Load the Iris Dataset\n",
        "iris = load_iris()\n",
        "X = iris.data\n",
        "y = iris.target"
      ],
      "metadata": {
        "id": "-0PGFyy2xLJf"
      },
      "execution_count": 5,
      "outputs": []
    },
    {
      "cell_type": "code",
      "source": [
        "# Split the dataset into training and testing sets\n",
        "X_train, X_test, y_train, y_test = train_test_split(X, y, test_size=0.2, random_state=42)"
      ],
      "metadata": {
        "id": "Br_NnkgyxNzv"
      },
      "execution_count": 6,
      "outputs": []
    },
    {
      "cell_type": "code",
      "source": [
        "# Train the Random Forest model\n",
        "rf = RandomForest(n_estimators=10, max_depth=5, max_features=2)\n",
        "rf.fit(X_train, y_train)"
      ],
      "metadata": {
        "id": "MBT2hfw6xQMY"
      },
      "execution_count": 7,
      "outputs": []
    },
    {
      "cell_type": "code",
      "source": [
        "# Make predictions\n",
        "y_pred = rf.predict(X_test)"
      ],
      "metadata": {
        "id": "8DNSViZMxR0c"
      },
      "execution_count": 8,
      "outputs": []
    },
    {
      "cell_type": "code",
      "source": [
        "# Evaluate the model\n",
        "accuracy = accuracy_score(y_test, y_pred)\n",
        "print(f\"Accuracy on Test Set: {accuracy}\")"
      ],
      "metadata": {
        "colab": {
          "base_uri": "https://localhost:8080/"
        },
        "id": "Yzk_CcbrxTkS",
        "outputId": "b7a535dd-a7c6-4661-97ac-ec36a93bfc11"
      },
      "execution_count": 9,
      "outputs": [
        {
          "output_type": "stream",
          "name": "stdout",
          "text": [
            "Accuracy on Test Set: 0.36666666666666664\n"
          ]
        }
      ]
    },
    {
      "cell_type": "code",
      "source": [
        "import matplotlib.pyplot as plt\n",
        "\n",
        "# Visualize the results\n",
        "plt.figure(figsize=(8, 5))\n",
        "plt.scatter(range(len(y_test)), y_test, label=\"True Labels\", c=\"blue\")\n",
        "plt.scatter(range(len(y_pred)), y_pred, label=\"Predicted Labels\", c=\"red\", alpha=0.6)\n",
        "plt.legend()\n",
        "plt.title(\"Random Forest: True vs Predicted Labels\")\n",
        "plt.xlabel(\"Sample Index\")\n",
        "plt.ylabel(\"Label\")\n",
        "plt.show()"
      ],
      "metadata": {
        "colab": {
          "base_uri": "https://localhost:8080/",
          "height": 487
        },
        "id": "lDGVfZUhxV4h",
        "outputId": "c46e92b4-fbb5-4766-e11c-db2d99c12767"
      },
      "execution_count": 11,
      "outputs": [
        {
          "output_type": "display_data",
          "data": {
            "text/plain": [
              "<Figure size 800x500 with 1 Axes>"
            ],
            "image/png": "[encoded data removed]"
          },
          "metadata": {}
        }
      ]
    }
  ]
}